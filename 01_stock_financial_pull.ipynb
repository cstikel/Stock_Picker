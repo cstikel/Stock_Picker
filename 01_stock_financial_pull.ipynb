{
 "cells": [
  {
   "cell_type": "code",
   "execution_count": 1,
   "id": "c8e63f45-412c-4127-8a73-2940931a5487",
   "metadata": {},
   "outputs": [],
   "source": [
    "import pandas as pd\n",
    "import time \n",
    "from datetime import datetime\n",
    "from finvizfinance.screener.overview import Overview\n",
    "import warnings\n",
    "warnings.filterwarnings(\"ignore\")\n",
    "\n",
    "today = datetime.today().strftime('%Y_%m_%d')"
   ]
  },
  {
   "cell_type": "code",
   "execution_count": 2,
   "id": "0084c7ab-3f88-41d7-a80e-3ffedbcb30a5",
   "metadata": {},
   "outputs": [
    {
     "name": "stdout",
     "output_type": "stream",
     "text": [
      "[Info] loading page [##############################] 98/99 \r"
     ]
    }
   ],
   "source": [
    "indexes = ['S&P 500', 'NASDAQ 100', 'DJIA', 'RUSSELL 2000']\n",
    "tickers = []\n",
    "for ind in indexes:\n",
    "    filters_dict = {'Index' : ind}\n",
    "    foverview = Overview()\n",
    "    foverview.set_filter(filters_dict=filters_dict)\n",
    "    df_overview = foverview.screener_view()\n",
    "    temp_tickers = df_overview['Ticker'].to_list()\n",
    "    tickers = tickers + temp_tickers\n",
    "\n",
    "tickers = list(set(tickers))"
   ]
  },
  {
   "cell_type": "code",
   "execution_count": 7,
   "id": "0ee038a9-b162-4f92-a744-af187199fea6",
   "metadata": {},
   "outputs": [],
   "source": [
    "import certifi\n",
    "import json\n",
    "from urllib.request import urlopen\n",
    "\n",
    "def get_jsonparsed_data(url):\n",
    "    response = urlopen(url, cafile=certifi.where())\n",
    "    data = response.read().decode(\"utf-8\")\n",
    "    return json.loads(data)"
   ]
  },
  {
   "cell_type": "code",
   "execution_count": 142,
   "id": "d1458cca-8267-45a8-94d5-e930408e094d",
   "metadata": {},
   "outputs": [],
   "source": [
    "year_now = datetime.now().year\n",
    "main_df = pd.DataFrame()\n",
    "\n",
    "for ticks in tickers:\n",
    "\n",
    "\n",
    "    url = (f\"https://financialmodelingprep.com/api/v3/ratios/{ticks}?period=quarter&apikey=PHaANSXTwW2zC5hpGFO1uhe8EkPXgio7\")\n",
    "    data = get_jsonparsed_data(url)\n",
    "\n",
    "    dict = {'ticker' : [],\n",
    "                'year' : [],\n",
    "                'period' : [],\n",
    "                'roce' : []}\n",
    "    \n",
    "    for i in range(len(data)):\n",
    "        symbol = data[i]['symbol']\n",
    "        roce = data[i]['returnOnCapitalEmployed']\n",
    "        period = data[i]['period']\n",
    "        year =  data[i]['calendarYear']\n",
    "    \n",
    "        dict['ticker'].append(symbol)\n",
    "        dict['year'].append(year)\n",
    "        dict['period'].append(period)\n",
    "        dict['roce'].append(roce)\n",
    "\n",
    "    df = pd.DataFrame(dict)\n",
    "    df = df.groupby(by=['ticker','year']).agg({'roce':'sum', 'period': 'count'})\n",
    "    df['adjusted_roce'] = (df['roce'] / df['period'] ) * 4\n",
    "    df.reset_index(inplace=True)\n",
    "    df = df[(pd.to_numeric(df['year']) >= (year_now-10)) & (pd.to_numeric(df['year']) <= year_now)]\n",
    "    transposed_df = df.pivot(index='ticker', columns='year', values='roce')\n",
    "    transposed_df.reset_index(inplace=True)\n",
    "    main_df = pd.concat([main_df, transposed_df])\n",
    "    #time.sleep(0.01)"
   ]
  },
  {
   "cell_type": "code",
   "execution_count": 146,
   "id": "6c362e1b-de12-4188-a4ee-8ad5b3b6f9b0",
   "metadata": {},
   "outputs": [],
   "source": [
    "main_df.to_csv(f\"stock_financials/ROCE_Ratios_{today}.csv\")\n",
    "main_df.to_csv(f\"stock_financials/ROCE_Ratios_recent.csv\")"
   ]
  },
  {
   "cell_type": "code",
   "execution_count": null,
   "id": "3cc09a8b-e49d-444a-a409-1a33a1ac3b0d",
   "metadata": {},
   "outputs": [],
   "source": []
  },
  {
   "cell_type": "code",
   "execution_count": null,
   "id": "4fcc710f-6dd6-4b16-ab88-1e6024f93909",
   "metadata": {},
   "outputs": [],
   "source": []
  },
  {
   "cell_type": "code",
   "execution_count": null,
   "id": "48a49baa-cc08-4bd0-96f4-80aa10f5c241",
   "metadata": {},
   "outputs": [],
   "source": []
  },
  {
   "cell_type": "code",
   "execution_count": 15,
   "id": "7acacaed-96ec-4211-b665-ae68624ab096",
   "metadata": {},
   "outputs": [
    {
     "data": {
      "text/plain": [
       "36.69364"
      ]
     },
     "execution_count": 15,
     "metadata": {},
     "output_type": "execute_result"
    }
   ],
   "source": [
    "url = (\"https://financialmodelingprep.com/api/v3/stock-price-change/AAPL?apikey=PHaANSXTwW2zC5hpGFO1uhe8EkPXgio7\")\n",
    "data = get_jsonparsed_data(url)\n",
    "data[0]['1Y']"
   ]
  },
  {
   "cell_type": "code",
   "execution_count": 8,
   "id": "6a106629-47e8-4803-ab95-0fea132e4a63",
   "metadata": {},
   "outputs": [],
   "source": [
    "url = (f\"https://financialmodelingprep.com/api/v3/ratios/AAPL?period=quarter&apikey=PHaANSXTwW2zC5hpGFO1uhe8EkPXgio7\")\n",
    "data = get_jsonparsed_data(url)"
   ]
  },
  {
   "cell_type": "code",
   "execution_count": 9,
   "id": "143bccfe-9c59-4e1f-9012-2db15c37a454",
   "metadata": {},
   "outputs": [
    {
     "data": {
      "text/plain": [
       "{'symbol': 'AAPL',\n",
       " 'date': '2024-06-29',\n",
       " 'calendarYear': '2024',\n",
       " 'period': 'Q3',\n",
       " 'currentRatio': 0.9529796997508053,\n",
       " 'quickRatio': 0.9061417370692275,\n",
       " 'cashRatio': 0.19422749650519663,\n",
       " 'daysOfSalesOutstanding': 45.29745736036467,\n",
       " 'daysOfInventoryOutstanding': 12.036052842794854,\n",
       " 'operatingCycle': 57.33351020315952,\n",
       " 'daysOfPayablesOutstanding': 92.87967201023883,\n",
       " 'cashConversionCycle': -35.546161807079315,\n",
       " 'grossProfitMargin': 0.462571551814589,\n",
       " 'operatingProfitMargin': 0.29555708406682446,\n",
       " 'pretaxProfitMargin': 0.2972125394919384,\n",
       " 'netProfitMargin': 0.25004371801298714,\n",
       " 'effectiveTaxRate': 0.1587040087863811,\n",
       " 'returnOnAssets': 0.06467799717742422,\n",
       " 'returnOnEquity': 0.32152065719254064,\n",
       " 'returnOnCapitalEmployed': 0.1267676060563634,\n",
       " 'netIncomePerEBT': 0.8412959912136189,\n",
       " 'ebtPerEbit': 1.005601136005049,\n",
       " 'ebitPerRevenue': 0.29555708406682446,\n",
       " 'debtRatio': 0.3054895480260063,\n",
       " 'debtEquityRatio': 1.5186184565569347,\n",
       " 'longTermDebtToCapitalization': 0.5637262596138753,\n",
       " 'totalDebtToCapitalization': 0.6029569316477394,\n",
       " 'interestCoverage': 0,\n",
       " 'cashFlowToDebtRatio': 0.2848653557608781,\n",
       " 'companyEquityMultiplier': 4.97109791929004,\n",
       " 'receivablesTurnover': 1.9868664875382192,\n",
       " 'payablesTurnover': 0.9689956699037289,\n",
       " 'inventoryTurnover': 7.477534468775345,\n",
       " 'fixedAssetTurnover': 1.9274864051053886,\n",
       " 'assetTurnover': 0.25866675512345755,\n",
       " 'operatingCashFlowPerShare': 1.8876834249320082,\n",
       " 'freeCashFlowPerShare': 1.7469804293318714,\n",
       " 'cashPerShare': 4.042578257128804,\n",
       " 'payoutRatio': 0.18160201417381575,\n",
       " 'operatingCashFlowSalesRatio': 0.336430511675624,\n",
       " 'freeCashFlowOperatingCashFlowRatio': 0.9254626100214846,\n",
       " 'cashFlowCoverageRatios': 0.2848653557608781,\n",
       " 'shortTermCoverageRatios': 1.9101138469684935,\n",
       " 'capitalExpenditureCoverageRatio': 13.416085541608554,\n",
       " 'dividendPaidAndCapexCoverageRatio': 4.773073106185908,\n",
       " 'dividendPayoutRatio': 0.18160201417381575,\n",
       " 'priceBookValueRatio': 48.26793897313666,\n",
       " 'priceToBookRatio': 48.26793897313666,\n",
       " 'priceToSalesRatio': 37.53754121757581,\n",
       " 'priceEarningsRatio': 37.53097809842409,\n",
       " 'priceToFreeCashFlowsRatio': 120.5623122409855,\n",
       " 'priceToOperatingCashFlowsRatio': 111.57591215676763,\n",
       " 'priceCashFlowRatio': 111.57591215676763,\n",
       " 'priceEarningsToGrowthRatio': -4.417107422352988,\n",
       " 'priceSalesRatio': 37.53754121757581,\n",
       " 'dividendYield': 0.0012096807982033455,\n",
       " 'enterpriseValueMultiple': 116.85684252960783,\n",
       " 'priceFairValue': 48.26793897313666}"
      ]
     },
     "execution_count": 9,
     "metadata": {},
     "output_type": "execute_result"
    }
   ],
   "source": [
    "data[0]"
   ]
  },
  {
   "cell_type": "code",
   "execution_count": null,
   "id": "ef64fdd1-67cb-448b-a900-c5d396e64c01",
   "metadata": {},
   "outputs": [],
   "source": []
  }
 ],
 "metadata": {
  "kernelspec": {
   "display_name": "Python 3 (ipykernel)",
   "language": "python",
   "name": "python3"
  },
  "language_info": {
   "codemirror_mode": {
    "name": "ipython",
    "version": 3
   },
   "file_extension": ".py",
   "mimetype": "text/x-python",
   "name": "python",
   "nbconvert_exporter": "python",
   "pygments_lexer": "ipython3",
   "version": "3.12.4"
  }
 },
 "nbformat": 4,
 "nbformat_minor": 5
}
