{
 "cells": [
  {
   "cell_type": "code",
   "execution_count": 1,
   "id": "28e5a44b-f980-49ce-85b1-0a8bff8196a8",
   "metadata": {},
   "outputs": [],
   "source": [
    "# SP500, Russell 2000, etc"
   ]
  },
  {
   "cell_type": "code",
   "execution_count": 49,
   "id": "65853882-e9cf-4676-8a6a-23c8501d29b2",
   "metadata": {},
   "outputs": [
    {
     "name": "stdout",
     "output_type": "stream",
     "text": [
      "------------ DJIA ------------\n",
      "  Near ------- Investable\n",
      "  Med  ------- Investable\n",
      "  Long ------- Investable\n",
      "\n",
      "------------ QQQ ------------\n",
      "  Near ------- Investable\n",
      "  Med  ------- Investable\n",
      "  Long ------- Investable\n",
      "\n",
      "------------ SPY ------------\n",
      "  Near ------- Investable\n",
      "  Med  ------- Investable\n",
      "  Long ------- Investable\n",
      "\n",
      "------------ IWM ------------\n",
      "  Near ------- Investable\n",
      "  Med  ------- Investable\n",
      "  Long ------- Investable\n",
      "\n"
     ]
    }
   ],
   "source": [
    "import pandas as pd\n",
    "from finvizfinance.quote import finvizfinance\n",
    "\n",
    "stock_fundament = stock.ticker_fundament()\n",
    "\n",
    "indexes = [\t'DJIA', 'QQQ', 'SPY', 'IWM']\n",
    "\n",
    "def str_to_num(input):\n",
    "    x = float(input.strip('%')) / 100\n",
    "    return x\n",
    "\n",
    "def invest_market(input):\n",
    "    if input > 0:\n",
    "        x = \"Investable\"\n",
    "    else:\n",
    "        x = \"Avoid\"\n",
    "\n",
    "    return x\n",
    "\n",
    "intervals = {'Near' : 'SMA20',\n",
    "              'Med ' : 'SMA50',\n",
    "              'Long' : 'SMA200'}\n",
    "\n",
    "for ind in indexes:\n",
    "    print(f'------------ {ind} ------------')\n",
    "    stock = finvizfinance(ind)\n",
    "    for i in intervals:\n",
    "        level = intervals[i]\n",
    "        avoid = invest_market(str_to_num(stock_fundament[level]))\n",
    "        print(f'  {i} ------- {avoid}')\n",
    "    print(\"\")"
   ]
  },
  {
   "cell_type": "code",
   "execution_count": null,
   "id": "5fd6e5be-7a58-41c8-8a5e-dd282dbaeed2",
   "metadata": {},
   "outputs": [],
   "source": []
  }
 ],
 "metadata": {
  "kernelspec": {
   "display_name": "Python 3 (ipykernel)",
   "language": "python",
   "name": "python3"
  },
  "language_info": {
   "codemirror_mode": {
    "name": "ipython",
    "version": 3
   },
   "file_extension": ".py",
   "mimetype": "text/x-python",
   "name": "python",
   "nbconvert_exporter": "python",
   "pygments_lexer": "ipython3",
   "version": "3.12.4"
  }
 },
 "nbformat": 4,
 "nbformat_minor": 5
}
