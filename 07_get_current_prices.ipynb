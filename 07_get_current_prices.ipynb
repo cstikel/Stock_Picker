{
 "cells": [
  {
   "cell_type": "code",
   "execution_count": 8,
   "id": "4400251d-5889-471f-810c-cf45fbfdda61",
   "metadata": {},
   "outputs": [],
   "source": [
    "import pandas as pd\n",
    "import warnings\n",
    "import certifi\n",
    "import json\n",
    "from urllib.request import urlopen\n",
    "import time\n",
    "warnings.filterwarnings(\"ignore\")\n",
    "from datetime import datetime\n",
    "today = datetime.today().strftime('%Y_%m_%d')"
   ]
  },
  {
   "cell_type": "code",
   "execution_count": 26,
   "id": "82c85c51-07d8-4d5c-81b6-ba1a5a2672e6",
   "metadata": {},
   "outputs": [],
   "source": [
    "investing_stocks = pd.read_csv(\"investing_stocks.csv\")\n",
    "short_stocks = pd.read_csv(\"short_stocks.csv\")"
   ]
  },
  {
   "cell_type": "code",
   "execution_count": 6,
   "id": "3ab5786d-bafd-4db8-a9d4-27e1c1aee490",
   "metadata": {},
   "outputs": [],
   "source": [
    "def get_jsonparsed_data(url):\n",
    "    response = urlopen(url, cafile=certifi.where())\n",
    "    data = response.read().decode(\"utf-8\")\n",
    "    return json.loads(data)\n",
    "    \n",
    "def get_price(tick):\n",
    "    url = (f\"https://financialmodelingprep.com/api/v3/quote/{tick}?apikey=PHaANSXTwW2zC5hpGFO1uhe8EkPXgio7\")\n",
    "    data = get_jsonparsed_data(url)\n",
    "    price = data[0]['price']\n",
    "    time.sleep(0.1)\n",
    "    return price\n"
   ]
  },
  {
   "cell_type": "code",
   "execution_count": 27,
   "id": "0c35b1f4-8b3b-4a37-a81e-18b2239f85f2",
   "metadata": {},
   "outputs": [],
   "source": [
    "short_stocks['current_price'] = short_stocks['ticker'].apply(get_price)\n",
    "short_stocks['price_change'] = (short_stocks['current_price'] - short_stocks['price_picked']) / short_stocks['price_picked']"
   ]
  },
  {
   "cell_type": "code",
   "execution_count": 25,
   "id": "27230329-5fc3-4d7d-a10c-a02975eb2303",
   "metadata": {},
   "outputs": [],
   "source": [
    "investing_stocks['current_price'] = investing_stocks['ticker'].apply(get_price)\n",
    "investing_stocks['price_change'] = (investing_stocks['current_price'] - investing_stocks['price_picked']) / investing_stocks['price_picked']"
   ]
  },
  {
   "cell_type": "code",
   "execution_count": null,
   "id": "43b01dac-fade-4340-965f-fc4e1cf4c10e",
   "metadata": {},
   "outputs": [],
   "source": []
  }
 ],
 "metadata": {
  "kernelspec": {
   "display_name": "Python 3 (ipykernel)",
   "language": "python",
   "name": "python3"
  },
  "language_info": {
   "codemirror_mode": {
    "name": "ipython",
    "version": 3
   },
   "file_extension": ".py",
   "mimetype": "text/x-python",
   "name": "python",
   "nbconvert_exporter": "python",
   "pygments_lexer": "ipython3",
   "version": "3.12.4"
  }
 },
 "nbformat": 4,
 "nbformat_minor": 5
}
