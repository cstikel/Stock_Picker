{
 "cells": [
  {
   "cell_type": "code",
   "execution_count": 44,
   "id": "2f5089e1-a378-479d-9173-f5dac6c47681",
   "metadata": {},
   "outputs": [],
   "source": [
    "from finvizfinance.screener.overview import Overview\n",
    "import pandas as pd\n",
    "import warnings\n",
    "import certifi\n",
    "import json\n",
    "from urllib.request import urlopen\n",
    "warnings.filterwarnings(\"ignore\")\n",
    "from datetime import datetime\n",
    "today = datetime.today().strftime('%Y_%m_%d')"
   ]
  },
  {
   "cell_type": "code",
   "execution_count": 2,
   "id": "dd1835e1-19de-4277-8d29-33be65733841",
   "metadata": {},
   "outputs": [],
   "source": [
    "stock_scores = pd.read_csv('stock_scores/stock_score_data_recent.csv')"
   ]
  },
  {
   "cell_type": "code",
   "execution_count": 35,
   "id": "e5737e5b-2553-4072-924b-33372e91b432",
   "metadata": {},
   "outputs": [],
   "source": [
    "filters_dict = {'Debt/Equity':'Over 1',\n",
    "                    #'Operating Margin':'Negative (<0%)', \n",
    "                    'P/E': 'Over 5'}"
   ]
  },
  {
   "cell_type": "code",
   "execution_count": 36,
   "id": "c463fb03-6774-4943-83ba-13afd5c19784",
   "metadata": {},
   "outputs": [
    {
     "name": "stdout",
     "output_type": "stream",
     "text": [
      "[Info] loading page [#############################-] 39/40 \r"
     ]
    }
   ],
   "source": [
    "foverview = Overview()\n",
    "foverview.set_filter(filters_dict=filters_dict)\n",
    "df_overview = foverview.screener_view()\n",
    "tickers = df_overview['Ticker'].to_list()"
   ]
  },
  {
   "cell_type": "code",
   "execution_count": 18,
   "id": "14dfde58-729f-42fa-9b0f-ee7f3c9d73b5",
   "metadata": {},
   "outputs": [],
   "source": [
    "non_value_scores = stock_scores[stock_scores['ticker'].isin(tickers)]\n",
    "non_value_scores = non_value_scores[['ticker', '2023', 'roce_rank', 'coef_rank', 'std_rank', 'final_rank']]"
   ]
  },
  {
   "cell_type": "code",
   "execution_count": 19,
   "id": "f9c0cd7d-a7f7-4854-bf8b-bd361086280f",
   "metadata": {},
   "outputs": [
    {
     "data": {
      "text/html": [
       "<div>\n",
       "<style scoped>\n",
       "    .dataframe tbody tr th:only-of-type {\n",
       "        vertical-align: middle;\n",
       "    }\n",
       "\n",
       "    .dataframe tbody tr th {\n",
       "        vertical-align: top;\n",
       "    }\n",
       "\n",
       "    .dataframe thead th {\n",
       "        text-align: right;\n",
       "    }\n",
       "</style>\n",
       "<table border=\"1\" class=\"dataframe\">\n",
       "  <thead>\n",
       "    <tr style=\"text-align: right;\">\n",
       "      <th></th>\n",
       "      <th>ticker</th>\n",
       "      <th>2023</th>\n",
       "      <th>roce_rank</th>\n",
       "      <th>coef_rank</th>\n",
       "      <th>std_rank</th>\n",
       "      <th>final_rank</th>\n",
       "    </tr>\n",
       "  </thead>\n",
       "  <tbody>\n",
       "    <tr>\n",
       "      <th>271</th>\n",
       "      <td>KMX</td>\n",
       "      <td>0.044171</td>\n",
       "      <td>1334.0</td>\n",
       "      <td>1390.0</td>\n",
       "      <td>372.0</td>\n",
       "      <td>1496.0</td>\n",
       "    </tr>\n",
       "    <tr>\n",
       "      <th>864</th>\n",
       "      <td>CCOI</td>\n",
       "      <td>-0.020688</td>\n",
       "      <td>1928.0</td>\n",
       "      <td>1255.0</td>\n",
       "      <td>1124.0</td>\n",
       "      <td>1608.0</td>\n",
       "    </tr>\n",
       "    <tr>\n",
       "      <th>1530</th>\n",
       "      <td>LFCR</td>\n",
       "      <td>-0.199282</td>\n",
       "      <td>1947.0</td>\n",
       "      <td>1582.0</td>\n",
       "      <td>1387.0</td>\n",
       "      <td>1683.0</td>\n",
       "    </tr>\n",
       "    <tr>\n",
       "      <th>1885</th>\n",
       "      <td>PI</td>\n",
       "      <td>-0.132296</td>\n",
       "      <td>924.0</td>\n",
       "      <td>1128.0</td>\n",
       "      <td>1737.0</td>\n",
       "      <td>1006.0</td>\n",
       "    </tr>\n",
       "  </tbody>\n",
       "</table>\n",
       "</div>"
      ],
      "text/plain": [
       "     ticker      2023  roce_rank  coef_rank  std_rank  final_rank\n",
       "271     KMX  0.044171     1334.0     1390.0     372.0      1496.0\n",
       "864    CCOI -0.020688     1928.0     1255.0    1124.0      1608.0\n",
       "1530   LFCR -0.199282     1947.0     1582.0    1387.0      1683.0\n",
       "1885     PI -0.132296      924.0     1128.0    1737.0      1006.0"
      ]
     },
     "execution_count": 19,
     "metadata": {},
     "output_type": "execute_result"
    }
   ],
   "source": [
    "non_value_scores"
   ]
  },
  {
   "cell_type": "code",
   "execution_count": 21,
   "id": "d95c708a-c529-45bf-a4c7-9746576c1274",
   "metadata": {},
   "outputs": [
    {
     "name": "stdout",
     "output_type": "stream",
     "text": [
      "[Info] loading page [##############################] 137/138 \r"
     ]
    }
   ],
   "source": [
    "filters_dict = {'20-Day Simple Moving Average': 'Price below SMA20', \n",
    "                '50-Day Simple Moving Average' : 'SMA50 above SMA20',\n",
    "                #'200-Day Simple Moving Average': 'SMA200 below SMA50',\n",
    "               \"Index\": 'Any'} #'RUSSELL 2000'\n",
    "foverview = Overview()\n",
    "foverview.set_filter(filters_dict=filters_dict)\n",
    "df_overview = foverview.screener_view()\n",
    "trending_stocks = df_overview['Ticker'].to_list()"
   ]
  },
  {
   "cell_type": "code",
   "execution_count": 45,
   "id": "b5500078-ad35-4a98-8b93-71d5f5973d5c",
   "metadata": {},
   "outputs": [
    {
     "name": "stdout",
     "output_type": "stream",
     "text": [
      "    ticker      2023  roce_rank  coef_rank  std_rank  final_rank  price_picked\n",
      "271    KMX  0.044171     1334.0     1390.0     372.0      1496.0            72\n"
     ]
    }
   ],
   "source": [
    "final_stocks = non_value_scores[non_value_scores['ticker'].isin(trending_stocks)].sort_values(by='final_rank')\n",
    "short_stocks = final_stocks[final_stocks['final_rank'] >= 1200]\n",
    "#get current price of stocks\n",
    "def get_jsonparsed_data(url):\n",
    "    response = urlopen(url, cafile=certifi.where())\n",
    "    data = response.read().decode(\"utf-8\")\n",
    "    return json.loads(data)\n",
    "    \n",
    "def get_price(tick):\n",
    "    url = (f\"https://financialmodelingprep.com/api/v3/quote/{tick}?apikey=PHaANSXTwW2zC5hpGFO1uhe8EkPXgio7\")\n",
    "    data = get_jsonparsed_data(url)\n",
    "    price = data[0]['price']\n",
    "    return price\n",
    "\n",
    "short_stocks['price_picked'] = short_stocks['ticker'].apply(get_price)\n",
    "\n",
    "print(short_stocks)"
   ]
  },
  {
   "cell_type": "code",
   "execution_count": 46,
   "id": "a7f56161-ffba-4b7a-a40f-46ddecbcf60f",
   "metadata": {},
   "outputs": [],
   "source": [
    "short_stocks['date'] = today\n",
    "#short_stocks.to_csv('short_stocks.csv',  index=False)\n",
    "short_stocks.to_csv('short_stocks.csv', mode='a', header=False, index=False)"
   ]
  },
  {
   "cell_type": "code",
   "execution_count": null,
   "id": "4189e6f7-fa85-455e-aadb-291dd10deccd",
   "metadata": {},
   "outputs": [],
   "source": []
  }
 ],
 "metadata": {
  "kernelspec": {
   "display_name": "Python 3 (ipykernel)",
   "language": "python",
   "name": "python3"
  },
  "language_info": {
   "codemirror_mode": {
    "name": "ipython",
    "version": 3
   },
   "file_extension": ".py",
   "mimetype": "text/x-python",
   "name": "python",
   "nbconvert_exporter": "python",
   "pygments_lexer": "ipython3",
   "version": "3.12.4"
  }
 },
 "nbformat": 4,
 "nbformat_minor": 5
}
