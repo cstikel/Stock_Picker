{
 "cells": [
  {
   "cell_type": "code",
   "execution_count": 10,
   "id": "8c814c25-d7eb-41cf-85be-465fe47116bc",
   "metadata": {},
   "outputs": [
    {
     "name": "stdout",
     "output_type": "stream",
     "text": [
      "Email sent successfully!\n"
     ]
    }
   ],
   "source": [
    "import smtplib\n",
    "from email.mime.text import MIMEText\n",
    "from email.mime.multipart import MIMEMultipart\n",
    "from datetime import date\n",
    "\n",
    "def send_email(to_email, subject_body, email_body, from_email, password, smtp_server=\"smtp.gmail.com\", smtp_port=587):\n",
    "    # Create email content\n",
    "    msg = MIMEMultipart()\n",
    "    msg[\"From\"] = from_email\n",
    "    msg[\"To\"] = to_email\n",
    "    msg[\"Subject\"] = f\"[model results]: {date.today().strftime('%Y-%m-%d')}\"\n",
    "    \n",
    "    # Add email body\n",
    "    msg.attach(MIMEText(email_body, \"plain\"))\n",
    "\n",
    "    try:\n",
    "        # Connect to the SMTP server\n",
    "        server = smtplib.SMTP(smtp_server, smtp_port)\n",
    "        server.starttls()\n",
    "        server.login(from_email, password)\n",
    "        \n",
    "        # Send email\n",
    "        server.sendmail(from_email, to_email, msg.as_string())\n",
    "        print(\"Email sent successfully!\")\n",
    "    except Exception as e:\n",
    "        print(f\"Failed to send email: {e}\")\n",
    "    finally:\n",
    "        server.quit()\n",
    "\n",
    "# Usage example:\n",
    "to_email = \"kristen.anderson08@gmail.com\"\n",
    "subject_body = \"Today's model results\"\n",
    "email_body = \"Here are the model results for today...\"\n",
    "from_email = \"funnyfarmcapital@gmail.com\"\n",
    "password = \"wrxf zbqb ycsy bozj\"\n",
    "\n",
    "send_email(to_email, subject_body, email_body, from_email, password)"
   ]
  },
  {
   "cell_type": "code",
   "execution_count": null,
   "id": "4431eea8-326b-4a21-b622-0b000d2c55c4",
   "metadata": {},
   "outputs": [],
   "source": []
  }
 ],
 "metadata": {
  "kernelspec": {
   "display_name": "Python 3 (ipykernel)",
   "language": "python",
   "name": "python3"
  },
  "language_info": {
   "codemirror_mode": {
    "name": "ipython",
    "version": 3
   },
   "file_extension": ".py",
   "mimetype": "text/x-python",
   "name": "python",
   "nbconvert_exporter": "python",
   "pygments_lexer": "ipython3",
   "version": "3.12.4"
  }
 },
 "nbformat": 4,
 "nbformat_minor": 5
}
