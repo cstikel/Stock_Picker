{
 "cells": [
  {
   "cell_type": "code",
   "execution_count": 156,
   "id": "97d95b32-ff9d-4d1d-9b59-bd4e0656f22b",
   "metadata": {},
   "outputs": [],
   "source": [
    "from finvizfinance.screener.overview import Overview\n",
    "import pandas as pd\n",
    "import requests\n",
    "from bs4 import BeautifulSoup\n",
    "import warnings\n",
    "import certifi\n",
    "import json\n",
    "from urllib.request import urlopen\n",
    "warnings.filterwarnings(\"ignore\")\n",
    "from datetime import datetime\n",
    "today = datetime.today().strftime('%Y_%m_%d')"
   ]
  },
  {
   "cell_type": "code",
   "execution_count": 130,
   "id": "cbd2d1a8-8866-4265-ae40-9000e13bcd75",
   "metadata": {},
   "outputs": [],
   "source": [
    "stock_scores = pd.read_csv('stock_scores/stock_score_data_recent.csv')"
   ]
  },
  {
   "cell_type": "markdown",
   "id": "8369dc64-fa45-4068-b4fa-10d15310a01e",
   "metadata": {},
   "source": [
    "## Get Value Stocks"
   ]
  },
  {
   "cell_type": "code",
   "execution_count": 131,
   "id": "0c8dcb85-1131-4647-95cb-eac360ebbfd9",
   "metadata": {},
   "outputs": [],
   "source": [
    "filters_dict = {'Debt/Equity':'Under 1',\n",
    "                    'Operating Margin':'Positive (>0%)', \n",
    "                    'P/E':'Under 20',\n",
    "                    'InsiderTransactions':'Positive (>0%)'}"
   ]
  },
  {
   "cell_type": "code",
   "execution_count": 132,
   "id": "21a7a1d6-a09f-45bc-863d-092b9290c96d",
   "metadata": {},
   "outputs": [
    {
     "name": "stdout",
     "output_type": "stream",
     "text": [
      "[Info] loading page [#########################-----] 5/6 \r"
     ]
    }
   ],
   "source": [
    "foverview = Overview()\n",
    "foverview.set_filter(filters_dict=filters_dict)\n",
    "df_overview = foverview.screener_view()\n",
    "tickers = df_overview['Ticker'].to_list()"
   ]
  },
  {
   "cell_type": "code",
   "execution_count": 133,
   "id": "acf06d27-8417-41ad-b358-b6502aef2506",
   "metadata": {},
   "outputs": [],
   "source": [
    "url = 'https://valueinvestorsclub.com/ideas'\n",
    "def get_trending_symbols(url):\n",
    "    # Send a GET request to the URL\n",
    "    response = requests.get(url)\n",
    "    \n",
    "    # Check if the request was successful\n",
    "    if response.status_code != 200:\n",
    "        print(f\"Failed to retrieve content: {response.status_code}\")\n",
    "        return []\n",
    "\n",
    "    # Parse the HTML content\n",
    "    soup = BeautifulSoup(response.content, 'html.parser')\n",
    "\n",
    "    # Find the <b>TRENDING:</b> element\n",
    "    trending_header = soup.find('b', string='TRENDING:')\n",
    "\n",
    "    if not trending_header:\n",
    "        print(\"No trending section found.\")\n",
    "        return []\n",
    "\n",
    "    # Get the next sibling which should contain the <span> with <a> tags\n",
    "    trending_span = trending_header.find_next('span')\n",
    "    \n",
    "    # If we found the span, extract the symbols\n",
    "    symbols = []\n",
    "    if trending_span:\n",
    "        # Find all <a> tags with href starting with '/idea/'\n",
    "        for a_tag in trending_span.find_all('a', href=lambda href: href and href.startswith('/idea/')):\n",
    "            symbols.append(a_tag.text.strip())\n",
    "\n",
    "    return symbols\n",
    "\n",
    "# Example usage\n",
    "trending_symbols = get_trending_symbols(url)"
   ]
  },
  {
   "cell_type": "code",
   "execution_count": 134,
   "id": "1e9e9ac7-a291-4a0d-960f-53df7670224e",
   "metadata": {},
   "outputs": [],
   "source": [
    "value_stocks = tickers + trending_symbols\n",
    "value_stocks = list(set(value_stocks))"
   ]
  },
  {
   "cell_type": "markdown",
   "id": "b3096e0b-ff4a-44ee-9f7d-1149951dcb4f",
   "metadata": {},
   "source": [
    "## Filter to value stocks"
   ]
  },
  {
   "cell_type": "code",
   "execution_count": 135,
   "id": "9da66b54-4b87-420e-ad51-dd8832f2ed28",
   "metadata": {},
   "outputs": [],
   "source": [
    "value_scores = stock_scores[stock_scores['ticker'].isin(value_stocks)]\n",
    "value_scores = value_scores[['ticker', '2023', 'roce_rank', 'coef_rank', 'std_rank', 'final_rank']]"
   ]
  },
  {
   "cell_type": "code",
   "execution_count": 136,
   "id": "776187cd-0939-4c10-a1a7-7e38fa008287",
   "metadata": {},
   "outputs": [
    {
     "data": {
      "text/html": [
       "<div>\n",
       "<style scoped>\n",
       "    .dataframe tbody tr th:only-of-type {\n",
       "        vertical-align: middle;\n",
       "    }\n",
       "\n",
       "    .dataframe tbody tr th {\n",
       "        vertical-align: top;\n",
       "    }\n",
       "\n",
       "    .dataframe thead th {\n",
       "        text-align: right;\n",
       "    }\n",
       "</style>\n",
       "<table border=\"1\" class=\"dataframe\">\n",
       "  <thead>\n",
       "    <tr style=\"text-align: right;\">\n",
       "      <th></th>\n",
       "      <th>ticker</th>\n",
       "      <th>2023</th>\n",
       "      <th>roce_rank</th>\n",
       "      <th>coef_rank</th>\n",
       "      <th>std_rank</th>\n",
       "      <th>final_rank</th>\n",
       "    </tr>\n",
       "  </thead>\n",
       "  <tbody>\n",
       "    <tr>\n",
       "      <th>554</th>\n",
       "      <td>AEHR</td>\n",
       "      <td>0.189696</td>\n",
       "      <td>313.0</td>\n",
       "      <td>48.0</td>\n",
       "      <td>2251.0</td>\n",
       "      <td>42.0</td>\n",
       "    </tr>\n",
       "    <tr>\n",
       "      <th>1635</th>\n",
       "      <td>MLI</td>\n",
       "      <td>0.337753</td>\n",
       "      <td>173.0</td>\n",
       "      <td>147.0</td>\n",
       "      <td>1838.0</td>\n",
       "      <td>49.0</td>\n",
       "    </tr>\n",
       "    <tr>\n",
       "      <th>624</th>\n",
       "      <td>AMRK</td>\n",
       "      <td>0.375883</td>\n",
       "      <td>231.0</td>\n",
       "      <td>403.0</td>\n",
       "      <td>1817.0</td>\n",
       "      <td>168.5</td>\n",
       "    </tr>\n",
       "    <tr>\n",
       "      <th>1485</th>\n",
       "      <td>KMT</td>\n",
       "      <td>0.092343</td>\n",
       "      <td>436.0</td>\n",
       "      <td>323.0</td>\n",
       "      <td>1450.0</td>\n",
       "      <td>177.0</td>\n",
       "    </tr>\n",
       "    <tr>\n",
       "      <th>495</th>\n",
       "      <td>XOM</td>\n",
       "      <td>0.170580</td>\n",
       "      <td>643.0</td>\n",
       "      <td>383.0</td>\n",
       "      <td>1414.0</td>\n",
       "      <td>258.0</td>\n",
       "    </tr>\n",
       "  </tbody>\n",
       "</table>\n",
       "</div>"
      ],
      "text/plain": [
       "     ticker      2023  roce_rank  coef_rank  std_rank  final_rank\n",
       "554    AEHR  0.189696      313.0       48.0    2251.0        42.0\n",
       "1635    MLI  0.337753      173.0      147.0    1838.0        49.0\n",
       "624    AMRK  0.375883      231.0      403.0    1817.0       168.5\n",
       "1485    KMT  0.092343      436.0      323.0    1450.0       177.0\n",
       "495     XOM  0.170580      643.0      383.0    1414.0       258.0"
      ]
     },
     "execution_count": 136,
     "metadata": {},
     "output_type": "execute_result"
    }
   ],
   "source": [
    "value_scores.sort_values(by='final_rank').head(5)"
   ]
  },
  {
   "cell_type": "markdown",
   "id": "3771c632-8fbe-489d-9410-cef0bb2e77e1",
   "metadata": {},
   "source": [
    "## Filter to stocks that are trending"
   ]
  },
  {
   "cell_type": "code",
   "execution_count": 137,
   "id": "d0c0dbdb-0b62-43d9-8943-49a24bff8251",
   "metadata": {},
   "outputs": [
    {
     "name": "stdout",
     "output_type": "stream",
     "text": [
      "[Info] loading page [##############################] 97/98 \r"
     ]
    }
   ],
   "source": [
    "#Need to make this filter more restrictive, then go into the momentem algorithm\n",
    "filters_dict = {'20-Day Simple Moving Average': 'Price above SMA20', \n",
    "                '50-Day Simple Moving Average' : 'SMA50 below SMA20',\n",
    "                #'200-Day Simple Moving Average': 'SMA200 below SMA50',\n",
    "               \"Index\": 'Any' ,\n",
    "               '20-Day High/Low': '0-5% below High'} #'RUSSELL 2000'\n",
    "foverview = Overview()\n",
    "foverview.set_filter(filters_dict=filters_dict)\n",
    "df_overview = foverview.screener_view()\n",
    "trending_stocks = df_overview['Ticker'].to_list()"
   ]
  },
  {
   "cell_type": "code",
   "execution_count": 138,
   "id": "0f82e094-0fa0-4cf9-ba11-5be9b5dcc8cc",
   "metadata": {},
   "outputs": [],
   "source": [
    "final_stocks = value_scores[value_scores['ticker'].isin(trending_stocks)].sort_values(by='final_rank')"
   ]
  },
  {
   "cell_type": "code",
   "execution_count": 171,
   "id": "2f3de6d3-9cf8-4f2c-953e-32d580135d60",
   "metadata": {},
   "outputs": [
    {
     "name": "stdout",
     "output_type": "stream",
     "text": [
      "     ticker      2023  roce_rank  coef_rank  std_rank  final_rank        date  \\\n",
      "1635    MLI  0.337753      173.0      147.0    1838.0        49.0  2024_10_28   \n",
      "\n",
      "      price_picked  \n",
      "1635         81.85  \n"
     ]
    }
   ],
   "source": [
    "investing_stocks = final_stocks[final_stocks['final_rank'] <= 200]\n",
    "\n",
    "#get current price of stocks\n",
    "def get_jsonparsed_data(url):\n",
    "    response = urlopen(url, cafile=certifi.where())\n",
    "    data = response.read().decode(\"utf-8\")\n",
    "    return json.loads(data)\n",
    "    \n",
    "def get_price(tick):\n",
    "    url = (f\"https://financialmodelingprep.com/api/v3/quote/{tick}?apikey=PHaANSXTwW2zC5hpGFO1uhe8EkPXgio7\")\n",
    "    data = get_jsonparsed_data(url)\n",
    "    price = data[0]['price']\n",
    "    return price\n",
    "\n",
    "investing_stocks['price_picked'] = investing_stocks['ticker'].apply(get_price)\n",
    "\n",
    "print(investing_stocks)"
   ]
  },
  {
   "cell_type": "code",
   "execution_count": 172,
   "id": "d6cafb63-e136-42a8-b81e-d5bef85501d1",
   "metadata": {},
   "outputs": [],
   "source": [
    "investing_stocks.to_csv('investing_stocks.csv', mode='a', header=False, index=False)"
   ]
  },
  {
   "cell_type": "code",
   "execution_count": null,
   "id": "36674aea-3273-4729-b587-80e0fdd51820",
   "metadata": {},
   "outputs": [],
   "source": []
  },
  {
   "cell_type": "code",
   "execution_count": null,
   "id": "42262534-f549-46f2-a86e-0faf21f81ef9",
   "metadata": {},
   "outputs": [],
   "source": []
  },
  {
   "cell_type": "code",
   "execution_count": null,
   "id": "e86d4d2c-55b9-4a7a-b98d-74971d752d2a",
   "metadata": {},
   "outputs": [],
   "source": []
  },
  {
   "cell_type": "code",
   "execution_count": null,
   "id": "64b4d1af-c828-4338-9f32-93e710ce5221",
   "metadata": {},
   "outputs": [],
   "source": []
  },
  {
   "cell_type": "code",
   "execution_count": 161,
   "id": "a7023d9e-5372-4f97-97d8-9a0eb956658b",
   "metadata": {},
   "outputs": [],
   "source": [
    "#get current price of stocks\n",
    "def get_jsonparsed_data(url):\n",
    "    response = urlopen(url, cafile=certifi.where())\n",
    "    data = response.read().decode(\"utf-8\")\n",
    "    return json.loads(data)\n",
    "    \n",
    "def get_price(tick):\n",
    "    url = (f\"https://financialmodelingprep.com/api/v3/quote/{tick}?apikey=PHaANSXTwW2zC5hpGFO1uhe8EkPXgio7\")\n",
    "    data = get_jsonparsed_data(url)\n",
    "    price = data[0]['price']\n",
    "    return price\n",
    "\n",
    "investing_stocks['price_picked'] = investing_stocks['ticker'].apply(get_price)"
   ]
  },
  {
   "cell_type": "code",
   "execution_count": null,
   "id": "92c1a4bc-452d-4877-8b70-6be5e351f5bc",
   "metadata": {},
   "outputs": [],
   "source": []
  }
 ],
 "metadata": {
  "kernelspec": {
   "display_name": "Python 3 (ipykernel)",
   "language": "python",
   "name": "python3"
  },
  "language_info": {
   "codemirror_mode": {
    "name": "ipython",
    "version": 3
   },
   "file_extension": ".py",
   "mimetype": "text/x-python",
   "name": "python",
   "nbconvert_exporter": "python",
   "pygments_lexer": "ipython3",
   "version": "3.12.4"
  }
 },
 "nbformat": 4,
 "nbformat_minor": 5
}
